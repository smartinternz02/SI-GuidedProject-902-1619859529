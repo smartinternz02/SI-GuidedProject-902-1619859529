{
 "cells": [
  {
   "cell_type": "code",
   "execution_count": 1,
   "metadata": {},
   "outputs": [],
   "source": [
    "from tensorflow.keras.models import Sequential\n",
    "from tensorflow.keras.layers import Dense\n",
    "from tensorflow.keras.layers import Convolution2D\n",
    "from tensorflow.keras.layers import MaxPooling2D\n",
    "from tensorflow.keras.layers import Flatten"
   ]
  },
  {
   "cell_type": "code",
   "execution_count": 2,
   "metadata": {},
   "outputs": [
    {
     "name": "stderr",
     "output_type": "stream",
     "text": [
      "Using TensorFlow backend.\n"
     ]
    }
   ],
   "source": [
    "from keras.preprocessing.image import ImageDataGenerator\n",
    "train_datagen=ImageDataGenerator(rescale=1./255,shear_range=0.2,zoom_range=0.2,horizontal_flip=True)\n",
    "test_datagen=ImageDataGenerator(rescale=1./255)"
   ]
  },
  {
   "cell_type": "code",
   "execution_count": 3,
   "metadata": {},
   "outputs": [
    {
     "name": "stdout",
     "output_type": "stream",
     "text": [
      "Found 1677 images belonging to 5 classes.\n",
      "Found 750 images belonging to 5 classes.\n"
     ]
    }
   ],
   "source": [
    "x_train=train_datagen.flow_from_directory(r\"C:\\externship\\flowers\\trainset\",target_size = (64,64) , batch_size = 32 , class_mode = \"categorical\")\n",
    "x_test=test_datagen.flow_from_directory(r\"C:\\externship\\flowers\\testset\",target_size = (64,64) , batch_size = 32 , class_mode = \"categorical\")"
   ]
  },
  {
   "cell_type": "code",
   "execution_count": 4,
   "metadata": {},
   "outputs": [],
   "source": [
    "model=Sequential()"
   ]
  },
  {
   "cell_type": "code",
   "execution_count": 5,
   "metadata": {},
   "outputs": [],
   "source": [
    "model.add(Convolution2D(32,(3,3),input_shape=(64,64,3),activation=\"relu\"))"
   ]
  },
  {
   "cell_type": "code",
   "execution_count": 6,
   "metadata": {},
   "outputs": [],
   "source": [
    "model.add(MaxPooling2D(2,2))"
   ]
  },
  {
   "cell_type": "code",
   "execution_count": 7,
   "metadata": {},
   "outputs": [],
   "source": [
    "model.add(Flatten())"
   ]
  },
  {
   "cell_type": "code",
   "execution_count": 8,
   "metadata": {},
   "outputs": [],
   "source": [
    "model.add(Dense(units=512,activation=\"relu\",kernel_initializer=\"random_uniform\"))"
   ]
  },
  {
   "cell_type": "code",
   "execution_count": 9,
   "metadata": {},
   "outputs": [],
   "source": [
    "model.add(Dense(units=5,activation=\"softmax\",kernel_initializer=\"random_uniform\"))"
   ]
  },
  {
   "cell_type": "code",
   "execution_count": 10,
   "metadata": {},
   "outputs": [],
   "source": [
    "model.compile(\"sgd\",loss=\"categorical_crossentropy\",metrics=[\"accuracy\"])"
   ]
  },
  {
   "cell_type": "code",
   "execution_count": 11,
   "metadata": {},
   "outputs": [
    {
     "name": "stderr",
     "output_type": "stream",
     "text": [
      "C:\\Users\\hp laptop\\Anaconda3\\lib\\site-packages\\tensorflow\\python\\keras\\engine\\training.py:1844: UserWarning: `Model.fit_generator` is deprecated and will be removed in a future version. Please use `Model.fit`, which supports generators.\n",
      "  warnings.warn('`Model.fit_generator` is deprecated and '\n"
     ]
    },
    {
     "name": "stdout",
     "output_type": "stream",
     "text": [
      "Epoch 1/200\n",
      "45/45 [==============================] - 21s 452ms/step - loss: 1.5597 - accuracy: 0.3068 - val_loss: 1.4769 - val_accuracy: 0.3688\n",
      "Epoch 2/200\n",
      "45/45 [==============================] - 19s 429ms/step - loss: 1.4430 - accuracy: 0.3826 - val_loss: 1.4301 - val_accuracy: 0.3875\n",
      "Epoch 3/200\n",
      "45/45 [==============================] - 18s 394ms/step - loss: 1.3512 - accuracy: 0.4426 - val_loss: 1.3741 - val_accuracy: 0.4219\n",
      "Epoch 4/200\n",
      "45/45 [==============================] - 18s 409ms/step - loss: 1.2669 - accuracy: 0.4493 - val_loss: 1.3062 - val_accuracy: 0.4391\n",
      "Epoch 5/200\n",
      "45/45 [==============================] - 19s 422ms/step - loss: 1.2726 - accuracy: 0.4430 - val_loss: 1.3631 - val_accuracy: 0.4156\n",
      "Epoch 6/200\n",
      "45/45 [==============================] - 18s 393ms/step - loss: 1.2272 - accuracy: 0.4805 - val_loss: 1.3286 - val_accuracy: 0.3984\n",
      "Epoch 7/200\n",
      "45/45 [==============================] - 18s 393ms/step - loss: 1.1960 - accuracy: 0.4834 - val_loss: 1.2188 - val_accuracy: 0.4891\n",
      "Epoch 8/200\n",
      "45/45 [==============================] - 18s 409ms/step - loss: 1.1318 - accuracy: 0.5546 - val_loss: 1.3596 - val_accuracy: 0.4141\n",
      "Epoch 9/200\n",
      "45/45 [==============================] - 20s 441ms/step - loss: 1.1498 - accuracy: 0.5321 - val_loss: 1.3011 - val_accuracy: 0.4656\n",
      "Epoch 10/200\n",
      "45/45 [==============================] - 19s 417ms/step - loss: 1.1138 - accuracy: 0.5452 - val_loss: 1.2302 - val_accuracy: 0.4781\n",
      "Epoch 11/200\n",
      "45/45 [==============================] - 20s 453ms/step - loss: 1.0794 - accuracy: 0.5307 - val_loss: 1.2019 - val_accuracy: 0.4812\n",
      "Epoch 12/200\n",
      "45/45 [==============================] - 19s 423ms/step - loss: 1.1229 - accuracy: 0.5391 - val_loss: 1.2024 - val_accuracy: 0.4859\n",
      "Epoch 13/200\n",
      "45/45 [==============================] - 20s 445ms/step - loss: 1.0841 - accuracy: 0.5651 - val_loss: 1.2063 - val_accuracy: 0.5125\n",
      "Epoch 14/200\n",
      "45/45 [==============================] - 20s 435ms/step - loss: 1.0294 - accuracy: 0.6024 - val_loss: 1.2138 - val_accuracy: 0.4891\n",
      "Epoch 15/200\n",
      "45/45 [==============================] - 19s 417ms/step - loss: 1.0081 - accuracy: 0.5984 - val_loss: 1.2730 - val_accuracy: 0.4625\n",
      "Epoch 16/200\n",
      "45/45 [==============================] - 19s 420ms/step - loss: 1.0131 - accuracy: 0.5996 - val_loss: 1.2318 - val_accuracy: 0.5016\n",
      "Epoch 17/200\n",
      "45/45 [==============================] - 19s 431ms/step - loss: 0.9739 - accuracy: 0.6414 - val_loss: 1.2285 - val_accuracy: 0.4734\n",
      "Epoch 18/200\n",
      "45/45 [==============================] - 20s 434ms/step - loss: 0.9970 - accuracy: 0.6065 - val_loss: 1.1669 - val_accuracy: 0.5328\n",
      "Epoch 19/200\n",
      "45/45 [==============================] - 19s 427ms/step - loss: 0.9950 - accuracy: 0.6083 - val_loss: 1.3288 - val_accuracy: 0.4797\n",
      "Epoch 20/200\n",
      "45/45 [==============================] - 19s 426ms/step - loss: 0.9960 - accuracy: 0.6190 - val_loss: 1.1845 - val_accuracy: 0.5391\n",
      "Epoch 21/200\n",
      "45/45 [==============================] - 19s 422ms/step - loss: 0.9917 - accuracy: 0.6252 - val_loss: 1.2331 - val_accuracy: 0.4781\n",
      "Epoch 22/200\n",
      "45/45 [==============================] - 19s 419ms/step - loss: 0.9817 - accuracy: 0.6218 - val_loss: 1.2278 - val_accuracy: 0.5031\n",
      "Epoch 23/200\n",
      "45/45 [==============================] - 20s 440ms/step - loss: 0.9319 - accuracy: 0.6430 - val_loss: 1.1618 - val_accuracy: 0.5203\n",
      "Epoch 24/200\n",
      "45/45 [==============================] - 20s 441ms/step - loss: 0.9014 - accuracy: 0.6551 - val_loss: 1.3149 - val_accuracy: 0.4859\n",
      "Epoch 25/200\n",
      "45/45 [==============================] - 20s 444ms/step - loss: 0.9273 - accuracy: 0.6409 - val_loss: 1.2454 - val_accuracy: 0.5188\n",
      "Epoch 26/200\n",
      "45/45 [==============================] - 21s 465ms/step - loss: 0.9237 - accuracy: 0.6471 - val_loss: 1.1677 - val_accuracy: 0.5500\n",
      "Epoch 27/200\n",
      "45/45 [==============================] - 20s 445ms/step - loss: 0.8794 - accuracy: 0.6702 - val_loss: 1.2174 - val_accuracy: 0.5250\n",
      "Epoch 28/200\n",
      "45/45 [==============================] - 19s 424ms/step - loss: 0.9477 - accuracy: 0.6204 - val_loss: 1.1808 - val_accuracy: 0.5281\n",
      "Epoch 29/200\n",
      "45/45 [==============================] - 19s 425ms/step - loss: 0.9160 - accuracy: 0.6469 - val_loss: 1.2662 - val_accuracy: 0.5047\n",
      "Epoch 30/200\n",
      "45/45 [==============================] - 18s 389ms/step - loss: 0.8953 - accuracy: 0.6644 - val_loss: 1.1581 - val_accuracy: 0.5609\n",
      "Epoch 31/200\n",
      "45/45 [==============================] - 18s 407ms/step - loss: 0.8702 - accuracy: 0.6680 - val_loss: 1.1655 - val_accuracy: 0.5484\n",
      "Epoch 32/200\n",
      "45/45 [==============================] - 19s 422ms/step - loss: 0.8658 - accuracy: 0.6688 - val_loss: 1.1686 - val_accuracy: 0.5625\n",
      "Epoch 33/200\n",
      "45/45 [==============================] - 18s 403ms/step - loss: 0.8975 - accuracy: 0.6509 - val_loss: 1.1926 - val_accuracy: 0.5125\n",
      "Epoch 34/200\n",
      "45/45 [==============================] - 19s 424ms/step - loss: 0.8599 - accuracy: 0.6882 - val_loss: 1.2651 - val_accuracy: 0.5000\n",
      "Epoch 35/200\n",
      "45/45 [==============================] - 18s 399ms/step - loss: 0.9341 - accuracy: 0.6361 - val_loss: 1.2038 - val_accuracy: 0.5516\n",
      "Epoch 36/200\n",
      "45/45 [==============================] - 21s 457ms/step - loss: 0.8668 - accuracy: 0.6707 - val_loss: 1.1792 - val_accuracy: 0.5531\n",
      "Epoch 37/200\n",
      "45/45 [==============================] - 21s 470ms/step - loss: 0.8620 - accuracy: 0.6871 - val_loss: 1.2738 - val_accuracy: 0.5063\n",
      "Epoch 38/200\n",
      "45/45 [==============================] - 23s 520ms/step - loss: 0.8311 - accuracy: 0.6799 - val_loss: 1.2561 - val_accuracy: 0.5312\n",
      "Epoch 39/200\n",
      "45/45 [==============================] - 23s 502ms/step - loss: 0.8285 - accuracy: 0.6820 - val_loss: 1.2092 - val_accuracy: 0.5578\n",
      "Epoch 40/200\n",
      "45/45 [==============================] - 25s 566ms/step - loss: 0.8131 - accuracy: 0.6882 - val_loss: 1.2747 - val_accuracy: 0.5063\n",
      "Epoch 41/200\n",
      "45/45 [==============================] - 23s 515ms/step - loss: 0.8721 - accuracy: 0.6487 - val_loss: 1.2331 - val_accuracy: 0.5328\n",
      "Epoch 42/200\n",
      "45/45 [==============================] - 22s 497ms/step - loss: 0.8204 - accuracy: 0.6767 - val_loss: 1.2441 - val_accuracy: 0.5172\n",
      "Epoch 43/200\n",
      "45/45 [==============================] - 23s 504ms/step - loss: 0.8085 - accuracy: 0.7090 - val_loss: 1.2564 - val_accuracy: 0.5234\n",
      "Epoch 44/200\n",
      "45/45 [==============================] - 23s 505ms/step - loss: 0.7923 - accuracy: 0.7015 - val_loss: 1.2680 - val_accuracy: 0.5297\n",
      "Epoch 45/200\n",
      "45/45 [==============================] - 21s 456ms/step - loss: 0.7583 - accuracy: 0.7147 - val_loss: 1.1523 - val_accuracy: 0.5656\n",
      "Epoch 46/200\n",
      "45/45 [==============================] - 22s 489ms/step - loss: 0.7687 - accuracy: 0.7031 - val_loss: 1.2919 - val_accuracy: 0.5484\n",
      "Epoch 47/200\n",
      "45/45 [==============================] - 23s 515ms/step - loss: 0.8229 - accuracy: 0.6773 - val_loss: 1.1785 - val_accuracy: 0.5562\n",
      "Epoch 48/200\n",
      "45/45 [==============================] - 23s 515ms/step - loss: 0.7805 - accuracy: 0.6991 - val_loss: 1.2291 - val_accuracy: 0.5344\n",
      "Epoch 49/200\n",
      "45/45 [==============================] - 24s 528ms/step - loss: 0.7757 - accuracy: 0.7135 - val_loss: 1.1030 - val_accuracy: 0.6062\n",
      "Epoch 50/200\n",
      "45/45 [==============================] - 22s 477ms/step - loss: 0.7719 - accuracy: 0.7204 - val_loss: 1.1872 - val_accuracy: 0.5531\n",
      "Epoch 51/200\n",
      "45/45 [==============================] - 21s 474ms/step - loss: 0.7395 - accuracy: 0.7153 - val_loss: 1.1341 - val_accuracy: 0.5891\n",
      "Epoch 52/200\n",
      "45/45 [==============================] - 22s 498ms/step - loss: 0.7367 - accuracy: 0.7363 - val_loss: 1.2881 - val_accuracy: 0.5266\n",
      "Epoch 53/200\n",
      "45/45 [==============================] - 24s 536ms/step - loss: 0.7064 - accuracy: 0.7315 - val_loss: 1.3318 - val_accuracy: 0.4922\n",
      "Epoch 54/200\n",
      "45/45 [==============================] - 20s 451ms/step - loss: 0.7165 - accuracy: 0.7182 - val_loss: 1.3105 - val_accuracy: 0.5422\n",
      "Epoch 55/200\n",
      "45/45 [==============================] - 22s 492ms/step - loss: 0.7598 - accuracy: 0.7294 - val_loss: 1.2847 - val_accuracy: 0.5250\n",
      "Epoch 56/200\n",
      "45/45 [==============================] - 19s 420ms/step - loss: 0.6989 - accuracy: 0.7417 - val_loss: 1.3320 - val_accuracy: 0.5234\n",
      "Epoch 57/200\n"
     ]
    },
    {
     "name": "stdout",
     "output_type": "stream",
     "text": [
      "45/45 [==============================] - 20s 448ms/step - loss: 0.7700 - accuracy: 0.7036 - val_loss: 1.2010 - val_accuracy: 0.5625\n",
      "Epoch 58/200\n",
      "45/45 [==============================] - 20s 437ms/step - loss: 0.6780 - accuracy: 0.7501 - val_loss: 1.2793 - val_accuracy: 0.5406\n",
      "Epoch 59/200\n",
      "45/45 [==============================] - 19s 414ms/step - loss: 0.6709 - accuracy: 0.7487 - val_loss: 1.1950 - val_accuracy: 0.5547\n",
      "Epoch 60/200\n",
      "45/45 [==============================] - 18s 401ms/step - loss: 0.6748 - accuracy: 0.7491 - val_loss: 1.2694 - val_accuracy: 0.5297\n",
      "Epoch 61/200\n",
      "45/45 [==============================] - 18s 400ms/step - loss: 0.6926 - accuracy: 0.7368 - val_loss: 1.2245 - val_accuracy: 0.5781\n",
      "Epoch 62/200\n",
      "45/45 [==============================] - 18s 402ms/step - loss: 0.6804 - accuracy: 0.7600 - val_loss: 1.3151 - val_accuracy: 0.5063\n",
      "Epoch 63/200\n",
      "45/45 [==============================] - 18s 394ms/step - loss: 0.6948 - accuracy: 0.7460 - val_loss: 1.4029 - val_accuracy: 0.5094\n",
      "Epoch 64/200\n",
      "45/45 [==============================] - 18s 396ms/step - loss: 0.6428 - accuracy: 0.7606 - val_loss: 1.3080 - val_accuracy: 0.5266\n",
      "Epoch 65/200\n",
      "45/45 [==============================] - 19s 421ms/step - loss: 0.6406 - accuracy: 0.7615 - val_loss: 1.3468 - val_accuracy: 0.5141\n",
      "Epoch 66/200\n",
      "45/45 [==============================] - 18s 401ms/step - loss: 0.6306 - accuracy: 0.7738 - val_loss: 1.2194 - val_accuracy: 0.5891\n",
      "Epoch 67/200\n",
      "45/45 [==============================] - 18s 401ms/step - loss: 0.6401 - accuracy: 0.7628 - val_loss: 1.2395 - val_accuracy: 0.5437\n",
      "Epoch 68/200\n",
      "45/45 [==============================] - 18s 401ms/step - loss: 0.6692 - accuracy: 0.7589 - val_loss: 1.2923 - val_accuracy: 0.5469\n",
      "Epoch 69/200\n",
      "45/45 [==============================] - 19s 419ms/step - loss: 0.6147 - accuracy: 0.7825 - val_loss: 1.3350 - val_accuracy: 0.5344\n",
      "Epoch 70/200\n",
      "45/45 [==============================] - 20s 440ms/step - loss: 0.6300 - accuracy: 0.7780 - val_loss: 1.3305 - val_accuracy: 0.5344\n",
      "Epoch 71/200\n",
      "45/45 [==============================] - 18s 399ms/step - loss: 0.5688 - accuracy: 0.7964 - val_loss: 1.2823 - val_accuracy: 0.5672\n",
      "Epoch 72/200\n",
      "45/45 [==============================] - 18s 407ms/step - loss: 0.6049 - accuracy: 0.7752 - val_loss: 1.3240 - val_accuracy: 0.5594\n",
      "Epoch 73/200\n",
      "45/45 [==============================] - 18s 399ms/step - loss: 0.5901 - accuracy: 0.7824 - val_loss: 1.3361 - val_accuracy: 0.5422\n",
      "Epoch 74/200\n",
      "45/45 [==============================] - 18s 401ms/step - loss: 0.6084 - accuracy: 0.7736 - val_loss: 1.2928 - val_accuracy: 0.5578\n",
      "Epoch 75/200\n",
      "45/45 [==============================] - 19s 422ms/step - loss: 0.5897 - accuracy: 0.7896 - val_loss: 1.3629 - val_accuracy: 0.5500\n",
      "Epoch 76/200\n",
      "45/45 [==============================] - 20s 452ms/step - loss: 0.5623 - accuracy: 0.7826 - val_loss: 1.1843 - val_accuracy: 0.5922\n",
      "Epoch 77/200\n",
      "45/45 [==============================] - 20s 451ms/step - loss: 0.5258 - accuracy: 0.8189 - val_loss: 1.4010 - val_accuracy: 0.5516\n",
      "Epoch 78/200\n",
      "45/45 [==============================] - 19s 428ms/step - loss: 0.5434 - accuracy: 0.8092 - val_loss: 1.3992 - val_accuracy: 0.5109\n",
      "Epoch 79/200\n",
      "45/45 [==============================] - 19s 429ms/step - loss: 0.5166 - accuracy: 0.8120 - val_loss: 1.3552 - val_accuracy: 0.5547\n",
      "Epoch 80/200\n",
      "45/45 [==============================] - 21s 461ms/step - loss: 0.5488 - accuracy: 0.8002 - val_loss: 1.2848 - val_accuracy: 0.5516\n",
      "Epoch 81/200\n",
      "45/45 [==============================] - 18s 407ms/step - loss: 0.5452 - accuracy: 0.8119 - val_loss: 1.2843 - val_accuracy: 0.5672\n",
      "Epoch 82/200\n",
      "45/45 [==============================] - 19s 423ms/step - loss: 0.5019 - accuracy: 0.8186 - val_loss: 1.3909 - val_accuracy: 0.5453\n",
      "Epoch 83/200\n",
      "45/45 [==============================] - 20s 446ms/step - loss: 0.4933 - accuracy: 0.8293 - val_loss: 1.2672 - val_accuracy: 0.5688\n",
      "Epoch 84/200\n",
      "45/45 [==============================] - 19s 426ms/step - loss: 0.5100 - accuracy: 0.8297 - val_loss: 1.3283 - val_accuracy: 0.5547\n",
      "Epoch 85/200\n",
      "45/45 [==============================] - 19s 418ms/step - loss: 0.5697 - accuracy: 0.7915 - val_loss: 1.4403 - val_accuracy: 0.5297\n",
      "Epoch 86/200\n",
      "45/45 [==============================] - 19s 421ms/step - loss: 0.5383 - accuracy: 0.8103 - val_loss: 1.3438 - val_accuracy: 0.5672\n",
      "Epoch 87/200\n",
      "45/45 [==============================] - 18s 409ms/step - loss: 0.5016 - accuracy: 0.8304 - val_loss: 1.4305 - val_accuracy: 0.5344\n",
      "Epoch 88/200\n",
      "45/45 [==============================] - 19s 417ms/step - loss: 0.5021 - accuracy: 0.8298 - val_loss: 1.3386 - val_accuracy: 0.5531\n",
      "Epoch 89/200\n",
      "45/45 [==============================] - 19s 426ms/step - loss: 0.4670 - accuracy: 0.8288 - val_loss: 1.3406 - val_accuracy: 0.5516\n",
      "Epoch 90/200\n",
      "45/45 [==============================] - 19s 430ms/step - loss: 0.4521 - accuracy: 0.8458 - val_loss: 1.4574 - val_accuracy: 0.5266\n",
      "Epoch 91/200\n",
      "45/45 [==============================] - 20s 441ms/step - loss: 0.5061 - accuracy: 0.8172 - val_loss: 1.3382 - val_accuracy: 0.5766\n",
      "Epoch 92/200\n",
      "45/45 [==============================] - 20s 447ms/step - loss: 0.4850 - accuracy: 0.8444 - val_loss: 1.2964 - val_accuracy: 0.5813\n",
      "Epoch 93/200\n",
      "45/45 [==============================] - 18s 404ms/step - loss: 0.4396 - accuracy: 0.8587 - val_loss: 1.2498 - val_accuracy: 0.5922\n",
      "Epoch 94/200\n",
      "45/45 [==============================] - 19s 427ms/step - loss: 0.5167 - accuracy: 0.8078 - val_loss: 1.3639 - val_accuracy: 0.5625\n",
      "Epoch 95/200\n",
      "45/45 [==============================] - 19s 427ms/step - loss: 0.4431 - accuracy: 0.8441 - val_loss: 1.3051 - val_accuracy: 0.5984\n",
      "Epoch 96/200\n",
      "45/45 [==============================] - 19s 430ms/step - loss: 0.4782 - accuracy: 0.8424 - val_loss: 1.2645 - val_accuracy: 0.5828\n",
      "Epoch 97/200\n",
      "45/45 [==============================] - 19s 414ms/step - loss: 0.4734 - accuracy: 0.8262 - val_loss: 1.3971 - val_accuracy: 0.5688\n",
      "Epoch 98/200\n",
      "45/45 [==============================] - 18s 389ms/step - loss: 0.4298 - accuracy: 0.8585 - val_loss: 1.4016 - val_accuracy: 0.5531\n",
      "Epoch 99/200\n",
      "45/45 [==============================] - 19s 415ms/step - loss: 0.4050 - accuracy: 0.8681 - val_loss: 1.4207 - val_accuracy: 0.5734\n",
      "Epoch 100/200\n",
      "45/45 [==============================] - 20s 439ms/step - loss: 0.4715 - accuracy: 0.8299 - val_loss: 1.3843 - val_accuracy: 0.5547\n",
      "Epoch 101/200\n",
      "45/45 [==============================] - 21s 457ms/step - loss: 0.4266 - accuracy: 0.8591 - val_loss: 1.4192 - val_accuracy: 0.5672\n",
      "Epoch 102/200\n",
      "45/45 [==============================] - 17s 380ms/step - loss: 0.3694 - accuracy: 0.8807 - val_loss: 1.3770 - val_accuracy: 0.5797\n",
      "Epoch 103/200\n",
      "45/45 [==============================] - 16s 357ms/step - loss: 0.4115 - accuracy: 0.8603 - val_loss: 1.5785 - val_accuracy: 0.5063\n",
      "Epoch 104/200\n",
      "45/45 [==============================] - 18s 394ms/step - loss: 0.3841 - accuracy: 0.8716 - val_loss: 1.4377 - val_accuracy: 0.5656\n",
      "Epoch 105/200\n",
      "45/45 [==============================] - 18s 403ms/step - loss: 0.4130 - accuracy: 0.8511 - val_loss: 1.4747 - val_accuracy: 0.5562\n",
      "Epoch 106/200\n",
      "45/45 [==============================] - 17s 375ms/step - loss: 0.3813 - accuracy: 0.8798 - val_loss: 1.4450 - val_accuracy: 0.5500\n",
      "Epoch 107/200\n",
      "45/45 [==============================] - 18s 392ms/step - loss: 0.3555 - accuracy: 0.8964 - val_loss: 1.4641 - val_accuracy: 0.5719\n",
      "Epoch 108/200\n",
      "45/45 [==============================] - 17s 385ms/step - loss: 0.3556 - accuracy: 0.8884 - val_loss: 1.8484 - val_accuracy: 0.5000\n",
      "Epoch 109/200\n",
      "45/45 [==============================] - 17s 380ms/step - loss: 0.3508 - accuracy: 0.8811 - val_loss: 1.4179 - val_accuracy: 0.5813\n",
      "Epoch 110/200\n",
      "45/45 [==============================] - 16s 356ms/step - loss: 0.3468 - accuracy: 0.8893 - val_loss: 1.4906 - val_accuracy: 0.5406\n",
      "Epoch 111/200\n",
      "45/45 [==============================] - 17s 375ms/step - loss: 0.3564 - accuracy: 0.8782 - val_loss: 1.3761 - val_accuracy: 0.5766\n",
      "Epoch 112/200\n",
      "45/45 [==============================] - 16s 365ms/step - loss: 0.3472 - accuracy: 0.8789 - val_loss: 1.5034 - val_accuracy: 0.5484\n",
      "Epoch 113/200\n"
     ]
    },
    {
     "name": "stdout",
     "output_type": "stream",
     "text": [
      "45/45 [==============================] - 19s 433ms/step - loss: 0.3838 - accuracy: 0.8642 - val_loss: 1.5484 - val_accuracy: 0.5375\n",
      "Epoch 114/200\n",
      "45/45 [==============================] - 19s 412ms/step - loss: 0.3377 - accuracy: 0.8881 - val_loss: 1.4979 - val_accuracy: 0.5375\n",
      "Epoch 115/200\n",
      "45/45 [==============================] - 17s 371ms/step - loss: 0.3310 - accuracy: 0.8935 - val_loss: 1.4332 - val_accuracy: 0.5828\n",
      "Epoch 116/200\n",
      "45/45 [==============================] - 17s 369ms/step - loss: 0.3445 - accuracy: 0.8950 - val_loss: 1.6199 - val_accuracy: 0.5375\n",
      "Epoch 117/200\n",
      "45/45 [==============================] - 17s 371ms/step - loss: 0.3357 - accuracy: 0.8921 - val_loss: 1.4393 - val_accuracy: 0.5797\n",
      "Epoch 118/200\n",
      "45/45 [==============================] - 17s 386ms/step - loss: 0.3404 - accuracy: 0.8983 - val_loss: 1.5131 - val_accuracy: 0.5609\n",
      "Epoch 119/200\n",
      "45/45 [==============================] - 17s 376ms/step - loss: 0.3127 - accuracy: 0.8957 - val_loss: 1.4590 - val_accuracy: 0.5656\n",
      "Epoch 120/200\n",
      "45/45 [==============================] - 17s 381ms/step - loss: 0.3063 - accuracy: 0.9000 - val_loss: 1.8163 - val_accuracy: 0.5328\n",
      "Epoch 121/200\n",
      "45/45 [==============================] - 16s 366ms/step - loss: 0.3160 - accuracy: 0.9027 - val_loss: 1.5650 - val_accuracy: 0.5641\n",
      "Epoch 122/200\n",
      "45/45 [==============================] - 17s 379ms/step - loss: 0.3152 - accuracy: 0.8958 - val_loss: 1.5805 - val_accuracy: 0.5391\n",
      "Epoch 123/200\n",
      "45/45 [==============================] - 16s 361ms/step - loss: 0.2695 - accuracy: 0.9114 - val_loss: 1.4555 - val_accuracy: 0.5844\n",
      "Epoch 124/200\n",
      "45/45 [==============================] - 16s 354ms/step - loss: 0.2801 - accuracy: 0.9066 - val_loss: 1.6333 - val_accuracy: 0.5531\n",
      "Epoch 125/200\n",
      "45/45 [==============================] - 17s 386ms/step - loss: 0.3210 - accuracy: 0.8878 - val_loss: 1.5632 - val_accuracy: 0.5688\n",
      "Epoch 126/200\n",
      "45/45 [==============================] - 17s 370ms/step - loss: 0.2567 - accuracy: 0.9299 - val_loss: 1.6903 - val_accuracy: 0.5359\n",
      "Epoch 127/200\n",
      "45/45 [==============================] - 16s 362ms/step - loss: 0.2640 - accuracy: 0.9233 - val_loss: 1.5164 - val_accuracy: 0.5594\n",
      "Epoch 128/200\n",
      "45/45 [==============================] - 16s 356ms/step - loss: 0.2912 - accuracy: 0.9046 - val_loss: 1.7851 - val_accuracy: 0.5063\n",
      "Epoch 129/200\n",
      "45/45 [==============================] - 16s 366ms/step - loss: 0.2541 - accuracy: 0.9249 - val_loss: 1.5119 - val_accuracy: 0.6000\n",
      "Epoch 130/200\n",
      "45/45 [==============================] - 17s 369ms/step - loss: 0.2686 - accuracy: 0.9158 - val_loss: 1.6027 - val_accuracy: 0.5734\n",
      "Epoch 131/200\n",
      "45/45 [==============================] - 16s 352ms/step - loss: 0.2720 - accuracy: 0.9116 - val_loss: 1.5349 - val_accuracy: 0.5875\n",
      "Epoch 132/200\n",
      "45/45 [==============================] - 16s 347ms/step - loss: 0.2375 - accuracy: 0.9331 - val_loss: 1.7486 - val_accuracy: 0.5562\n",
      "Epoch 133/200\n",
      "45/45 [==============================] - 16s 366ms/step - loss: 0.2552 - accuracy: 0.9236 - val_loss: 1.5655 - val_accuracy: 0.5844\n",
      "Epoch 134/200\n",
      "45/45 [==============================] - 18s 395ms/step - loss: 0.2814 - accuracy: 0.9104 - val_loss: 1.5362 - val_accuracy: 0.5688\n",
      "Epoch 135/200\n",
      "45/45 [==============================] - 16s 356ms/step - loss: 0.2626 - accuracy: 0.9257 - val_loss: 1.5503 - val_accuracy: 0.6031\n",
      "Epoch 136/200\n",
      "45/45 [==============================] - 17s 370ms/step - loss: 0.2598 - accuracy: 0.9253 - val_loss: 1.6018 - val_accuracy: 0.5547\n",
      "Epoch 137/200\n",
      "45/45 [==============================] - 18s 387ms/step - loss: 0.2244 - accuracy: 0.9343 - val_loss: 1.6158 - val_accuracy: 0.5703\n",
      "Epoch 138/200\n",
      "45/45 [==============================] - 16s 357ms/step - loss: 0.1974 - accuracy: 0.9448 - val_loss: 1.6434 - val_accuracy: 0.5703\n",
      "Epoch 139/200\n",
      "45/45 [==============================] - 16s 357ms/step - loss: 0.2088 - accuracy: 0.9375 - val_loss: 1.6212 - val_accuracy: 0.5719\n",
      "Epoch 140/200\n",
      "45/45 [==============================] - 16s 361ms/step - loss: 0.2453 - accuracy: 0.9235 - val_loss: 1.7352 - val_accuracy: 0.5484\n",
      "Epoch 141/200\n",
      "45/45 [==============================] - 16s 358ms/step - loss: 0.2114 - accuracy: 0.9323 - val_loss: 2.0165 - val_accuracy: 0.4984\n",
      "Epoch 142/200\n",
      "45/45 [==============================] - 16s 351ms/step - loss: 0.2150 - accuracy: 0.9228 - val_loss: 1.5789 - val_accuracy: 0.5891\n",
      "Epoch 143/200\n",
      "45/45 [==============================] - 15s 341ms/step - loss: 0.1956 - accuracy: 0.9393 - val_loss: 1.7099 - val_accuracy: 0.5797\n",
      "Epoch 144/200\n",
      "45/45 [==============================] - 16s 363ms/step - loss: 0.2254 - accuracy: 0.9258 - val_loss: 1.6545 - val_accuracy: 0.5562\n",
      "Epoch 145/200\n",
      "45/45 [==============================] - 16s 366ms/step - loss: 0.1832 - accuracy: 0.9546 - val_loss: 1.7389 - val_accuracy: 0.5578\n",
      "Epoch 146/200\n",
      "45/45 [==============================] - 16s 352ms/step - loss: 0.2316 - accuracy: 0.9269 - val_loss: 1.6348 - val_accuracy: 0.5828\n",
      "Epoch 147/200\n",
      "45/45 [==============================] - 15s 339ms/step - loss: 0.1866 - accuracy: 0.9432 - val_loss: 1.7388 - val_accuracy: 0.5422\n",
      "Epoch 148/200\n",
      "45/45 [==============================] - 16s 349ms/step - loss: 0.1886 - accuracy: 0.9490 - val_loss: 1.6849 - val_accuracy: 0.5594\n",
      "Epoch 149/200\n",
      "45/45 [==============================] - 17s 379ms/step - loss: 0.1895 - accuracy: 0.9476 - val_loss: 1.7311 - val_accuracy: 0.5594\n",
      "Epoch 150/200\n",
      "45/45 [==============================] - 16s 353ms/step - loss: 0.1929 - accuracy: 0.9371 - val_loss: 1.8393 - val_accuracy: 0.5406\n",
      "Epoch 151/200\n",
      "45/45 [==============================] - 16s 365ms/step - loss: 0.2010 - accuracy: 0.9393 - val_loss: 1.9125 - val_accuracy: 0.5266\n",
      "Epoch 152/200\n",
      "45/45 [==============================] - 16s 351ms/step - loss: 0.1642 - accuracy: 0.9598 - val_loss: 1.6653 - val_accuracy: 0.5641\n",
      "Epoch 153/200\n",
      "45/45 [==============================] - 16s 348ms/step - loss: 0.1857 - accuracy: 0.9431 - val_loss: 1.8212 - val_accuracy: 0.5594\n",
      "Epoch 154/200\n",
      "45/45 [==============================] - 16s 355ms/step - loss: 0.1765 - accuracy: 0.9510 - val_loss: 1.7974 - val_accuracy: 0.5547\n",
      "Epoch 155/200\n",
      "45/45 [==============================] - 15s 344ms/step - loss: 0.1526 - accuracy: 0.9610 - val_loss: 1.8641 - val_accuracy: 0.5516\n",
      "Epoch 156/200\n",
      "45/45 [==============================] - 16s 363ms/step - loss: 0.1935 - accuracy: 0.9454 - val_loss: 1.7127 - val_accuracy: 0.5828\n",
      "Epoch 157/200\n",
      "45/45 [==============================] - 16s 355ms/step - loss: 0.1865 - accuracy: 0.9482 - val_loss: 1.7413 - val_accuracy: 0.5750\n",
      "Epoch 158/200\n",
      "45/45 [==============================] - 16s 350ms/step - loss: 0.1486 - accuracy: 0.9592 - val_loss: 1.7376 - val_accuracy: 0.5781\n",
      "Epoch 159/200\n",
      "45/45 [==============================] - 16s 360ms/step - loss: 0.1382 - accuracy: 0.9652 - val_loss: 1.7524 - val_accuracy: 0.5609\n",
      "Epoch 160/200\n",
      "45/45 [==============================] - 16s 358ms/step - loss: 0.1765 - accuracy: 0.9533 - val_loss: 1.7317 - val_accuracy: 0.5625\n",
      "Epoch 161/200\n",
      "45/45 [==============================] - 16s 349ms/step - loss: 0.1358 - accuracy: 0.9669 - val_loss: 1.8064 - val_accuracy: 0.5688\n",
      "Epoch 162/200\n",
      "45/45 [==============================] - 16s 362ms/step - loss: 0.1435 - accuracy: 0.9641 - val_loss: 1.7669 - val_accuracy: 0.5734\n",
      "Epoch 163/200\n",
      "45/45 [==============================] - 16s 346ms/step - loss: 0.1355 - accuracy: 0.9648 - val_loss: 2.0600 - val_accuracy: 0.5641\n",
      "Epoch 164/200\n",
      "45/45 [==============================] - 16s 353ms/step - loss: 0.2530 - accuracy: 0.9288 - val_loss: 1.7928 - val_accuracy: 0.5844\n",
      "Epoch 165/200\n",
      "45/45 [==============================] - 16s 356ms/step - loss: 0.1144 - accuracy: 0.9723 - val_loss: 1.7087 - val_accuracy: 0.5766\n",
      "Epoch 166/200\n",
      "45/45 [==============================] - 16s 344ms/step - loss: 0.1397 - accuracy: 0.9602 - val_loss: 1.7725 - val_accuracy: 0.5969\n",
      "Epoch 167/200\n",
      "45/45 [==============================] - 16s 351ms/step - loss: 0.1245 - accuracy: 0.9716 - val_loss: 1.9208 - val_accuracy: 0.5453\n",
      "Epoch 168/200\n",
      "45/45 [==============================] - 16s 352ms/step - loss: 0.1377 - accuracy: 0.9672 - val_loss: 1.8498 - val_accuracy: 0.5953\n",
      "Epoch 169/200\n"
     ]
    },
    {
     "name": "stdout",
     "output_type": "stream",
     "text": [
      "45/45 [==============================] - 15s 343ms/step - loss: 0.1229 - accuracy: 0.9670 - val_loss: 1.9942 - val_accuracy: 0.5547\n",
      "Epoch 170/200\n",
      "45/45 [==============================] - 16s 359ms/step - loss: 0.1211 - accuracy: 0.9653 - val_loss: 1.9485 - val_accuracy: 0.5516\n",
      "Epoch 171/200\n",
      "45/45 [==============================] - 16s 356ms/step - loss: 0.1362 - accuracy: 0.9638 - val_loss: 1.8752 - val_accuracy: 0.5703\n",
      "Epoch 172/200\n",
      "45/45 [==============================] - 17s 387ms/step - loss: 0.1192 - accuracy: 0.9650 - val_loss: 1.9387 - val_accuracy: 0.5719\n",
      "Epoch 173/200\n",
      "45/45 [==============================] - 16s 351ms/step - loss: 0.1299 - accuracy: 0.9663 - val_loss: 1.8393 - val_accuracy: 0.5531\n",
      "Epoch 174/200\n",
      "45/45 [==============================] - 16s 365ms/step - loss: 0.1068 - accuracy: 0.9704 - val_loss: 1.9578 - val_accuracy: 0.5594\n",
      "Epoch 175/200\n",
      "45/45 [==============================] - 16s 365ms/step - loss: 0.0957 - accuracy: 0.9842 - val_loss: 1.9389 - val_accuracy: 0.5484\n",
      "Epoch 176/200\n",
      "45/45 [==============================] - 17s 372ms/step - loss: 0.1174 - accuracy: 0.9704 - val_loss: 1.8546 - val_accuracy: 0.5578\n",
      "Epoch 177/200\n",
      "45/45 [==============================] - 15s 344ms/step - loss: 0.1513 - accuracy: 0.9477 - val_loss: 1.8133 - val_accuracy: 0.5922\n",
      "Epoch 178/200\n",
      "45/45 [==============================] - 16s 351ms/step - loss: 0.1447 - accuracy: 0.9441 - val_loss: 1.9008 - val_accuracy: 0.5625\n",
      "Epoch 179/200\n",
      "45/45 [==============================] - 17s 381ms/step - loss: 0.1409 - accuracy: 0.9631 - val_loss: 1.8961 - val_accuracy: 0.5578\n",
      "Epoch 180/200\n",
      "45/45 [==============================] - 16s 347ms/step - loss: 0.0835 - accuracy: 0.9866 - val_loss: 1.8750 - val_accuracy: 0.5828\n",
      "Epoch 181/200\n",
      "45/45 [==============================] - 16s 356ms/step - loss: 0.1106 - accuracy: 0.9631 - val_loss: 1.9494 - val_accuracy: 0.5656\n",
      "Epoch 182/200\n",
      "45/45 [==============================] - 16s 353ms/step - loss: 0.1082 - accuracy: 0.9694 - val_loss: 1.9254 - val_accuracy: 0.5719\n",
      "Epoch 183/200\n",
      "45/45 [==============================] - 16s 363ms/step - loss: 0.0881 - accuracy: 0.9896 - val_loss: 1.9510 - val_accuracy: 0.5547\n",
      "Epoch 184/200\n",
      "45/45 [==============================] - 16s 350ms/step - loss: 0.1221 - accuracy: 0.9682 - val_loss: 1.9276 - val_accuracy: 0.5875\n",
      "Epoch 185/200\n",
      "45/45 [==============================] - 16s 355ms/step - loss: 0.1010 - accuracy: 0.9730 - val_loss: 1.9301 - val_accuracy: 0.5734\n",
      "Epoch 186/200\n",
      "45/45 [==============================] - 16s 354ms/step - loss: 0.0974 - accuracy: 0.9762 - val_loss: 1.9577 - val_accuracy: 0.5766\n",
      "Epoch 187/200\n",
      "45/45 [==============================] - 16s 357ms/step - loss: 0.1081 - accuracy: 0.9698 - val_loss: 2.0262 - val_accuracy: 0.5406\n",
      "Epoch 188/200\n",
      "45/45 [==============================] - 16s 352ms/step - loss: 0.0819 - accuracy: 0.9854 - val_loss: 2.2089 - val_accuracy: 0.5344\n",
      "Epoch 189/200\n",
      "45/45 [==============================] - 16s 355ms/step - loss: 0.1242 - accuracy: 0.9702 - val_loss: 2.1241 - val_accuracy: 0.5594\n",
      "Epoch 190/200\n",
      "45/45 [==============================] - 16s 359ms/step - loss: 0.1165 - accuracy: 0.9725 - val_loss: 1.8271 - val_accuracy: 0.5766\n",
      "Epoch 191/200\n",
      "45/45 [==============================] - 16s 361ms/step - loss: 0.0734 - accuracy: 0.9876 - val_loss: 1.8859 - val_accuracy: 0.5922\n",
      "Epoch 192/200\n",
      "45/45 [==============================] - 15s 338ms/step - loss: 0.0732 - accuracy: 0.9836 - val_loss: 2.0604 - val_accuracy: 0.5688\n",
      "Epoch 193/200\n",
      "45/45 [==============================] - 15s 341ms/step - loss: 0.0950 - accuracy: 0.9776 - val_loss: 2.1288 - val_accuracy: 0.5578\n",
      "Epoch 194/200\n",
      "45/45 [==============================] - 17s 370ms/step - loss: 0.0646 - accuracy: 0.9894 - val_loss: 2.1353 - val_accuracy: 0.5469\n",
      "Epoch 195/200\n",
      "45/45 [==============================] - 18s 393ms/step - loss: 0.0825 - accuracy: 0.9768 - val_loss: 1.9925 - val_accuracy: 0.5766\n",
      "Epoch 196/200\n",
      "45/45 [==============================] - 16s 356ms/step - loss: 0.0725 - accuracy: 0.9846 - val_loss: 2.1412 - val_accuracy: 0.5547\n",
      "Epoch 197/200\n",
      "45/45 [==============================] - 16s 363ms/step - loss: 0.0806 - accuracy: 0.9862 - val_loss: 2.1157 - val_accuracy: 0.5844\n",
      "Epoch 198/200\n",
      "45/45 [==============================] - 16s 349ms/step - loss: 0.0702 - accuracy: 0.9813 - val_loss: 2.2932 - val_accuracy: 0.5344\n",
      "Epoch 199/200\n",
      "45/45 [==============================] - 16s 351ms/step - loss: 0.1106 - accuracy: 0.9670 - val_loss: 2.0095 - val_accuracy: 0.5969\n",
      "Epoch 200/200\n",
      "45/45 [==============================] - 16s 347ms/step - loss: 0.0598 - accuracy: 0.9898 - val_loss: 2.0018 - val_accuracy: 0.5641\n"
     ]
    },
    {
     "data": {
      "text/plain": [
       "<tensorflow.python.keras.callbacks.History at 0x206fb76cbe0>"
      ]
     },
     "execution_count": 11,
     "metadata": {},
     "output_type": "execute_result"
    }
   ],
   "source": [
    "model.fit_generator(x_train ,steps_per_epoch = 45,epochs=200, validation_data=x_test ,validation_steps = 20)"
   ]
  },
  {
   "cell_type": "code",
   "execution_count": 12,
   "metadata": {},
   "outputs": [],
   "source": [
    "model.save(\"flowers.h5\")"
   ]
  },
  {
   "cell_type": "code",
   "execution_count": 13,
   "metadata": {},
   "outputs": [],
   "source": [
    "from tensorflow.keras.models import load_model\n",
    "from tensorflow.keras.preprocessing import image\n",
    "import cv2\n",
    "import numpy as np"
   ]
  },
  {
   "cell_type": "code",
   "execution_count": 14,
   "metadata": {},
   "outputs": [],
   "source": [
    "index=[\"daisy\",\"dandelion\",\"rose\",\"sunflower\",\"tulip\"]"
   ]
  },
  {
   "cell_type": "code",
   "execution_count": 15,
   "metadata": {},
   "outputs": [],
   "source": [
    "model=load_model(\"flowers.h5\")"
   ]
  },
  {
   "cell_type": "code",
   "execution_count": 30,
   "metadata": {},
   "outputs": [],
   "source": [
    "img=image.load_img(r\"C:\\externship\\daisy.jpg\",target_size=(64,64))"
   ]
  },
  {
   "cell_type": "code",
   "execution_count": 31,
   "metadata": {},
   "outputs": [
    {
     "data": {
      "text/plain": [
       "PIL.Image.Image"
      ]
     },
     "execution_count": 31,
     "metadata": {},
     "output_type": "execute_result"
    }
   ],
   "source": [
    "type(img)"
   ]
  },
  {
   "cell_type": "code",
   "execution_count": 32,
   "metadata": {},
   "outputs": [],
   "source": [
    "x=image.img_to_array(img)"
   ]
  },
  {
   "cell_type": "code",
   "execution_count": 33,
   "metadata": {},
   "outputs": [
    {
     "data": {
      "text/plain": [
       "numpy.ndarray"
      ]
     },
     "execution_count": 33,
     "metadata": {},
     "output_type": "execute_result"
    }
   ],
   "source": [
    "type(x)"
   ]
  },
  {
   "cell_type": "code",
   "execution_count": 34,
   "metadata": {},
   "outputs": [
    {
     "data": {
      "text/plain": [
       "(64, 64, 3)"
      ]
     },
     "execution_count": 34,
     "metadata": {},
     "output_type": "execute_result"
    }
   ],
   "source": [
    "x.shape"
   ]
  },
  {
   "cell_type": "code",
   "execution_count": 35,
   "metadata": {},
   "outputs": [],
   "source": [
    "x=np.expand_dims(x,axis=0)"
   ]
  },
  {
   "cell_type": "code",
   "execution_count": 36,
   "metadata": {},
   "outputs": [
    {
     "data": {
      "text/plain": [
       "(1, 64, 64, 3)"
      ]
     },
     "execution_count": 36,
     "metadata": {},
     "output_type": "execute_result"
    }
   ],
   "source": [
    "x.shape"
   ]
  },
  {
   "cell_type": "code",
   "execution_count": 37,
   "metadata": {},
   "outputs": [],
   "source": [
    "pred=model.predict_classes(x)"
   ]
  },
  {
   "cell_type": "code",
   "execution_count": 38,
   "metadata": {},
   "outputs": [
    {
     "data": {
      "text/plain": [
       "0"
      ]
     },
     "execution_count": 38,
     "metadata": {},
     "output_type": "execute_result"
    }
   ],
   "source": [
    "pred[0]"
   ]
  },
  {
   "cell_type": "code",
   "execution_count": 39,
   "metadata": {},
   "outputs": [
    {
     "name": "stdout",
     "output_type": "stream",
     "text": [
      "daisy\n"
     ]
    }
   ],
   "source": [
    "print(index[pred[0]])"
   ]
  },
  {
   "cell_type": "code",
   "execution_count": null,
   "metadata": {},
   "outputs": [],
   "source": []
  }
 ],
 "metadata": {
  "kernelspec": {
   "display_name": "Python 3",
   "language": "python",
   "name": "python3"
  },
  "language_info": {
   "codemirror_mode": {
    "name": "ipython",
    "version": 3
   },
   "file_extension": ".py",
   "mimetype": "text/x-python",
   "name": "python",
   "nbconvert_exporter": "python",
   "pygments_lexer": "ipython3",
   "version": "3.7.3"
  }
 },
 "nbformat": 4,
 "nbformat_minor": 2
}
